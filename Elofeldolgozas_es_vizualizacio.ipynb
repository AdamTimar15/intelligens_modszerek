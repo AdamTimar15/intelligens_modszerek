{
  "nbformat": 4,
  "nbformat_minor": 0,
  "metadata": {
    "colab": {
      "name": "Elofeldolgozas_es_vizualizacio.ipynb",
      "provenance": []
    },
    "kernelspec": {
      "name": "python3",
      "display_name": "Python 3"
    }
  },
  "cells": [
    {
      "cell_type": "code",
      "metadata": {
        "id": "D7InELjanYBR"
      },
      "source": [
        "import matplotlib.pyplot as plt\n",
        "import matplotlib.image as img\n",
        "import pandas as pd\n",
        "import numpy as np\n",
        "import warnings\n",
        "warnings.filterwarnings('ignore')\n",
        "\n",
        "# %matplotlib inline ### most nem kell, de maskor jol johet :-)"
      ],
      "execution_count": 2,
      "outputs": []
    },
    {
      "cell_type": "markdown",
      "metadata": {
        "id": "blil-3X3pmT3"
      },
      "source": [
        "**Adatok betöltése**"
      ]
    },
    {
      "cell_type": "code",
      "metadata": {
        "id": "Qj77JJMepfpz"
      },
      "source": [
        "data = pd.read_csv('http://www.biointelligence.hu/mi/fuel_data_with_errors.txt', header=0, sep='\\t')"
      ],
      "execution_count": 3,
      "outputs": []
    },
    {
      "cell_type": "code",
      "metadata": {
        "id": "vC20r_Vyppvf",
        "outputId": "807140c5-9973-4ce0-d511-392060a447b1",
        "colab": {
          "base_uri": "https://localhost:8080/",
          "height": 423
        }
      },
      "source": [
        "data"
      ],
      "execution_count": 4,
      "outputs": [
        {
          "output_type": "execute_result",
          "data": {
            "text/plain": [
              "           date starttime endtime  starttemp  endtemp air conditioner  trafic  \\\n",
              "0    2018.06.03     00:03   01:16       17.0     15.0             off     low   \n",
              "1    2018.06.03     08:20   09:29       19.0     24.0             off     low   \n",
              "2    2018.06.03     13:00   15:00       30.0     28.0              on  normal   \n",
              "3    2018.06.04     15:30   16:30       29.0     28.0              on  normal   \n",
              "4    2018.06.04     18:18   19:10       30.0     25.0              on  normal   \n",
              "..          ...       ...     ...        ...      ...             ...     ...   \n",
              "98   2018.09.03     22:00   22:55       21.0     19.0             off  normal   \n",
              "99   2018.09.04     06:42   07:55       16.0     17.0             off  normal   \n",
              "100  2018.09.04     20:00   21:10       17.0     16.0             off     low   \n",
              "101  2018.09.05     08:15   09:25       15.0     20.0             off  normal   \n",
              "102  2018.09.05     20:50   21:52       21.0     19.0             off     low   \n",
              "\n",
              "           route  dist  avg.cons.  speed duration fuel type      road  \\\n",
              "0        bp-dujv  69.8        4.5     57    01:13       95+  standard   \n",
              "1        dujv-bp  68.6        4.6     59    01:09       95+  standard   \n",
              "2        bp-dujv  79.5        6.0     47    01:40       95+  standard   \n",
              "3    dujv-szelid  45.2        4.3     56    00:48       95+  standard   \n",
              "4    szelid-dujv  47.5        4.7     57    00:49       95+  standard   \n",
              "..           ...   ...        ...    ...      ...       ...       ...   \n",
              "98       bp-dujv  68.2        5.3     78    00:52       95+   highway   \n",
              "99       dujv-bp  69.1        4.5     58    01:10       95+   highway   \n",
              "100      bp-dujv  71.6        4.5     65    01:05       95+   highway   \n",
              "101      dujv-bp  71.7        4.7     62    01:09       95+   highway   \n",
              "102      bp-dujv  71.6        4.8     73    00:58       95+   highway   \n",
              "\n",
              "     num. persons  \n",
              "0               1  \n",
              "1               2  \n",
              "2               3  \n",
              "3               1  \n",
              "4               1  \n",
              "..            ...  \n",
              "98              1  \n",
              "99              1  \n",
              "100             1  \n",
              "101             1  \n",
              "102             1  \n",
              "\n",
              "[103 rows x 15 columns]"
            ],
            "text/html": [
              "\n",
              "  <div id=\"df-b5e0365f-2131-4739-84c3-9d0511bf17ae\" class=\"colab-df-container\">\n",
              "    <div>\n",
              "<style scoped>\n",
              "    .dataframe tbody tr th:only-of-type {\n",
              "        vertical-align: middle;\n",
              "    }\n",
              "\n",
              "    .dataframe tbody tr th {\n",
              "        vertical-align: top;\n",
              "    }\n",
              "\n",
              "    .dataframe thead th {\n",
              "        text-align: right;\n",
              "    }\n",
              "</style>\n",
              "<table border=\"1\" class=\"dataframe\">\n",
              "  <thead>\n",
              "    <tr style=\"text-align: right;\">\n",
              "      <th></th>\n",
              "      <th>date</th>\n",
              "      <th>starttime</th>\n",
              "      <th>endtime</th>\n",
              "      <th>starttemp</th>\n",
              "      <th>endtemp</th>\n",
              "      <th>air conditioner</th>\n",
              "      <th>trafic</th>\n",
              "      <th>route</th>\n",
              "      <th>dist</th>\n",
              "      <th>avg.cons.</th>\n",
              "      <th>speed</th>\n",
              "      <th>duration</th>\n",
              "      <th>fuel type</th>\n",
              "      <th>road</th>\n",
              "      <th>num. persons</th>\n",
              "    </tr>\n",
              "  </thead>\n",
              "  <tbody>\n",
              "    <tr>\n",
              "      <th>0</th>\n",
              "      <td>2018.06.03</td>\n",
              "      <td>00:03</td>\n",
              "      <td>01:16</td>\n",
              "      <td>17.0</td>\n",
              "      <td>15.0</td>\n",
              "      <td>off</td>\n",
              "      <td>low</td>\n",
              "      <td>bp-dujv</td>\n",
              "      <td>69.8</td>\n",
              "      <td>4.5</td>\n",
              "      <td>57</td>\n",
              "      <td>01:13</td>\n",
              "      <td>95+</td>\n",
              "      <td>standard</td>\n",
              "      <td>1</td>\n",
              "    </tr>\n",
              "    <tr>\n",
              "      <th>1</th>\n",
              "      <td>2018.06.03</td>\n",
              "      <td>08:20</td>\n",
              "      <td>09:29</td>\n",
              "      <td>19.0</td>\n",
              "      <td>24.0</td>\n",
              "      <td>off</td>\n",
              "      <td>low</td>\n",
              "      <td>dujv-bp</td>\n",
              "      <td>68.6</td>\n",
              "      <td>4.6</td>\n",
              "      <td>59</td>\n",
              "      <td>01:09</td>\n",
              "      <td>95+</td>\n",
              "      <td>standard</td>\n",
              "      <td>2</td>\n",
              "    </tr>\n",
              "    <tr>\n",
              "      <th>2</th>\n",
              "      <td>2018.06.03</td>\n",
              "      <td>13:00</td>\n",
              "      <td>15:00</td>\n",
              "      <td>30.0</td>\n",
              "      <td>28.0</td>\n",
              "      <td>on</td>\n",
              "      <td>normal</td>\n",
              "      <td>bp-dujv</td>\n",
              "      <td>79.5</td>\n",
              "      <td>6.0</td>\n",
              "      <td>47</td>\n",
              "      <td>01:40</td>\n",
              "      <td>95+</td>\n",
              "      <td>standard</td>\n",
              "      <td>3</td>\n",
              "    </tr>\n",
              "    <tr>\n",
              "      <th>3</th>\n",
              "      <td>2018.06.04</td>\n",
              "      <td>15:30</td>\n",
              "      <td>16:30</td>\n",
              "      <td>29.0</td>\n",
              "      <td>28.0</td>\n",
              "      <td>on</td>\n",
              "      <td>normal</td>\n",
              "      <td>dujv-szelid</td>\n",
              "      <td>45.2</td>\n",
              "      <td>4.3</td>\n",
              "      <td>56</td>\n",
              "      <td>00:48</td>\n",
              "      <td>95+</td>\n",
              "      <td>standard</td>\n",
              "      <td>1</td>\n",
              "    </tr>\n",
              "    <tr>\n",
              "      <th>4</th>\n",
              "      <td>2018.06.04</td>\n",
              "      <td>18:18</td>\n",
              "      <td>19:10</td>\n",
              "      <td>30.0</td>\n",
              "      <td>25.0</td>\n",
              "      <td>on</td>\n",
              "      <td>normal</td>\n",
              "      <td>szelid-dujv</td>\n",
              "      <td>47.5</td>\n",
              "      <td>4.7</td>\n",
              "      <td>57</td>\n",
              "      <td>00:49</td>\n",
              "      <td>95+</td>\n",
              "      <td>standard</td>\n",
              "      <td>1</td>\n",
              "    </tr>\n",
              "    <tr>\n",
              "      <th>...</th>\n",
              "      <td>...</td>\n",
              "      <td>...</td>\n",
              "      <td>...</td>\n",
              "      <td>...</td>\n",
              "      <td>...</td>\n",
              "      <td>...</td>\n",
              "      <td>...</td>\n",
              "      <td>...</td>\n",
              "      <td>...</td>\n",
              "      <td>...</td>\n",
              "      <td>...</td>\n",
              "      <td>...</td>\n",
              "      <td>...</td>\n",
              "      <td>...</td>\n",
              "      <td>...</td>\n",
              "    </tr>\n",
              "    <tr>\n",
              "      <th>98</th>\n",
              "      <td>2018.09.03</td>\n",
              "      <td>22:00</td>\n",
              "      <td>22:55</td>\n",
              "      <td>21.0</td>\n",
              "      <td>19.0</td>\n",
              "      <td>off</td>\n",
              "      <td>normal</td>\n",
              "      <td>bp-dujv</td>\n",
              "      <td>68.2</td>\n",
              "      <td>5.3</td>\n",
              "      <td>78</td>\n",
              "      <td>00:52</td>\n",
              "      <td>95+</td>\n",
              "      <td>highway</td>\n",
              "      <td>1</td>\n",
              "    </tr>\n",
              "    <tr>\n",
              "      <th>99</th>\n",
              "      <td>2018.09.04</td>\n",
              "      <td>06:42</td>\n",
              "      <td>07:55</td>\n",
              "      <td>16.0</td>\n",
              "      <td>17.0</td>\n",
              "      <td>off</td>\n",
              "      <td>normal</td>\n",
              "      <td>dujv-bp</td>\n",
              "      <td>69.1</td>\n",
              "      <td>4.5</td>\n",
              "      <td>58</td>\n",
              "      <td>01:10</td>\n",
              "      <td>95+</td>\n",
              "      <td>highway</td>\n",
              "      <td>1</td>\n",
              "    </tr>\n",
              "    <tr>\n",
              "      <th>100</th>\n",
              "      <td>2018.09.04</td>\n",
              "      <td>20:00</td>\n",
              "      <td>21:10</td>\n",
              "      <td>17.0</td>\n",
              "      <td>16.0</td>\n",
              "      <td>off</td>\n",
              "      <td>low</td>\n",
              "      <td>bp-dujv</td>\n",
              "      <td>71.6</td>\n",
              "      <td>4.5</td>\n",
              "      <td>65</td>\n",
              "      <td>01:05</td>\n",
              "      <td>95+</td>\n",
              "      <td>highway</td>\n",
              "      <td>1</td>\n",
              "    </tr>\n",
              "    <tr>\n",
              "      <th>101</th>\n",
              "      <td>2018.09.05</td>\n",
              "      <td>08:15</td>\n",
              "      <td>09:25</td>\n",
              "      <td>15.0</td>\n",
              "      <td>20.0</td>\n",
              "      <td>off</td>\n",
              "      <td>normal</td>\n",
              "      <td>dujv-bp</td>\n",
              "      <td>71.7</td>\n",
              "      <td>4.7</td>\n",
              "      <td>62</td>\n",
              "      <td>01:09</td>\n",
              "      <td>95+</td>\n",
              "      <td>highway</td>\n",
              "      <td>1</td>\n",
              "    </tr>\n",
              "    <tr>\n",
              "      <th>102</th>\n",
              "      <td>2018.09.05</td>\n",
              "      <td>20:50</td>\n",
              "      <td>21:52</td>\n",
              "      <td>21.0</td>\n",
              "      <td>19.0</td>\n",
              "      <td>off</td>\n",
              "      <td>low</td>\n",
              "      <td>bp-dujv</td>\n",
              "      <td>71.6</td>\n",
              "      <td>4.8</td>\n",
              "      <td>73</td>\n",
              "      <td>00:58</td>\n",
              "      <td>95+</td>\n",
              "      <td>highway</td>\n",
              "      <td>1</td>\n",
              "    </tr>\n",
              "  </tbody>\n",
              "</table>\n",
              "<p>103 rows × 15 columns</p>\n",
              "</div>\n",
              "    <div class=\"colab-df-buttons\">\n",
              "\n",
              "  <div class=\"colab-df-container\">\n",
              "    <button class=\"colab-df-convert\" onclick=\"convertToInteractive('df-b5e0365f-2131-4739-84c3-9d0511bf17ae')\"\n",
              "            title=\"Convert this dataframe to an interactive table.\"\n",
              "            style=\"display:none;\">\n",
              "\n",
              "  <svg xmlns=\"http://www.w3.org/2000/svg\" height=\"24px\" viewBox=\"0 -960 960 960\">\n",
              "    <path d=\"M120-120v-720h720v720H120Zm60-500h600v-160H180v160Zm220 220h160v-160H400v160Zm0 220h160v-160H400v160ZM180-400h160v-160H180v160Zm440 0h160v-160H620v160ZM180-180h160v-160H180v160Zm440 0h160v-160H620v160Z\"/>\n",
              "  </svg>\n",
              "    </button>\n",
              "\n",
              "  <style>\n",
              "    .colab-df-container {\n",
              "      display:flex;\n",
              "      gap: 12px;\n",
              "    }\n",
              "\n",
              "    .colab-df-convert {\n",
              "      background-color: #E8F0FE;\n",
              "      border: none;\n",
              "      border-radius: 50%;\n",
              "      cursor: pointer;\n",
              "      display: none;\n",
              "      fill: #1967D2;\n",
              "      height: 32px;\n",
              "      padding: 0 0 0 0;\n",
              "      width: 32px;\n",
              "    }\n",
              "\n",
              "    .colab-df-convert:hover {\n",
              "      background-color: #E2EBFA;\n",
              "      box-shadow: 0px 1px 2px rgba(60, 64, 67, 0.3), 0px 1px 3px 1px rgba(60, 64, 67, 0.15);\n",
              "      fill: #174EA6;\n",
              "    }\n",
              "\n",
              "    .colab-df-buttons div {\n",
              "      margin-bottom: 4px;\n",
              "    }\n",
              "\n",
              "    [theme=dark] .colab-df-convert {\n",
              "      background-color: #3B4455;\n",
              "      fill: #D2E3FC;\n",
              "    }\n",
              "\n",
              "    [theme=dark] .colab-df-convert:hover {\n",
              "      background-color: #434B5C;\n",
              "      box-shadow: 0px 1px 3px 1px rgba(0, 0, 0, 0.15);\n",
              "      filter: drop-shadow(0px 1px 2px rgba(0, 0, 0, 0.3));\n",
              "      fill: #FFFFFF;\n",
              "    }\n",
              "  </style>\n",
              "\n",
              "    <script>\n",
              "      const buttonEl =\n",
              "        document.querySelector('#df-b5e0365f-2131-4739-84c3-9d0511bf17ae button.colab-df-convert');\n",
              "      buttonEl.style.display =\n",
              "        google.colab.kernel.accessAllowed ? 'block' : 'none';\n",
              "\n",
              "      async function convertToInteractive(key) {\n",
              "        const element = document.querySelector('#df-b5e0365f-2131-4739-84c3-9d0511bf17ae');\n",
              "        const dataTable =\n",
              "          await google.colab.kernel.invokeFunction('convertToInteractive',\n",
              "                                                    [key], {});\n",
              "        if (!dataTable) return;\n",
              "\n",
              "        const docLinkHtml = 'Like what you see? Visit the ' +\n",
              "          '<a target=\"_blank\" href=https://colab.research.google.com/notebooks/data_table.ipynb>data table notebook</a>'\n",
              "          + ' to learn more about interactive tables.';\n",
              "        element.innerHTML = '';\n",
              "        dataTable['output_type'] = 'display_data';\n",
              "        await google.colab.output.renderOutput(dataTable, element);\n",
              "        const docLink = document.createElement('div');\n",
              "        docLink.innerHTML = docLinkHtml;\n",
              "        element.appendChild(docLink);\n",
              "      }\n",
              "    </script>\n",
              "  </div>\n",
              "\n",
              "\n",
              "<div id=\"df-61387a29-abdf-4b51-9480-659dfcb50cfe\">\n",
              "  <button class=\"colab-df-quickchart\" onclick=\"quickchart('df-61387a29-abdf-4b51-9480-659dfcb50cfe')\"\n",
              "            title=\"Suggest charts\"\n",
              "            style=\"display:none;\">\n",
              "\n",
              "<svg xmlns=\"http://www.w3.org/2000/svg\" height=\"24px\"viewBox=\"0 0 24 24\"\n",
              "     width=\"24px\">\n",
              "    <g>\n",
              "        <path d=\"M19 3H5c-1.1 0-2 .9-2 2v14c0 1.1.9 2 2 2h14c1.1 0 2-.9 2-2V5c0-1.1-.9-2-2-2zM9 17H7v-7h2v7zm4 0h-2V7h2v10zm4 0h-2v-4h2v4z\"/>\n",
              "    </g>\n",
              "</svg>\n",
              "  </button>\n",
              "\n",
              "<style>\n",
              "  .colab-df-quickchart {\n",
              "      --bg-color: #E8F0FE;\n",
              "      --fill-color: #1967D2;\n",
              "      --hover-bg-color: #E2EBFA;\n",
              "      --hover-fill-color: #174EA6;\n",
              "      --disabled-fill-color: #AAA;\n",
              "      --disabled-bg-color: #DDD;\n",
              "  }\n",
              "\n",
              "  [theme=dark] .colab-df-quickchart {\n",
              "      --bg-color: #3B4455;\n",
              "      --fill-color: #D2E3FC;\n",
              "      --hover-bg-color: #434B5C;\n",
              "      --hover-fill-color: #FFFFFF;\n",
              "      --disabled-bg-color: #3B4455;\n",
              "      --disabled-fill-color: #666;\n",
              "  }\n",
              "\n",
              "  .colab-df-quickchart {\n",
              "    background-color: var(--bg-color);\n",
              "    border: none;\n",
              "    border-radius: 50%;\n",
              "    cursor: pointer;\n",
              "    display: none;\n",
              "    fill: var(--fill-color);\n",
              "    height: 32px;\n",
              "    padding: 0;\n",
              "    width: 32px;\n",
              "  }\n",
              "\n",
              "  .colab-df-quickchart:hover {\n",
              "    background-color: var(--hover-bg-color);\n",
              "    box-shadow: 0 1px 2px rgba(60, 64, 67, 0.3), 0 1px 3px 1px rgba(60, 64, 67, 0.15);\n",
              "    fill: var(--button-hover-fill-color);\n",
              "  }\n",
              "\n",
              "  .colab-df-quickchart-complete:disabled,\n",
              "  .colab-df-quickchart-complete:disabled:hover {\n",
              "    background-color: var(--disabled-bg-color);\n",
              "    fill: var(--disabled-fill-color);\n",
              "    box-shadow: none;\n",
              "  }\n",
              "\n",
              "  .colab-df-spinner {\n",
              "    border: 2px solid var(--fill-color);\n",
              "    border-color: transparent;\n",
              "    border-bottom-color: var(--fill-color);\n",
              "    animation:\n",
              "      spin 1s steps(1) infinite;\n",
              "  }\n",
              "\n",
              "  @keyframes spin {\n",
              "    0% {\n",
              "      border-color: transparent;\n",
              "      border-bottom-color: var(--fill-color);\n",
              "      border-left-color: var(--fill-color);\n",
              "    }\n",
              "    20% {\n",
              "      border-color: transparent;\n",
              "      border-left-color: var(--fill-color);\n",
              "      border-top-color: var(--fill-color);\n",
              "    }\n",
              "    30% {\n",
              "      border-color: transparent;\n",
              "      border-left-color: var(--fill-color);\n",
              "      border-top-color: var(--fill-color);\n",
              "      border-right-color: var(--fill-color);\n",
              "    }\n",
              "    40% {\n",
              "      border-color: transparent;\n",
              "      border-right-color: var(--fill-color);\n",
              "      border-top-color: var(--fill-color);\n",
              "    }\n",
              "    60% {\n",
              "      border-color: transparent;\n",
              "      border-right-color: var(--fill-color);\n",
              "    }\n",
              "    80% {\n",
              "      border-color: transparent;\n",
              "      border-right-color: var(--fill-color);\n",
              "      border-bottom-color: var(--fill-color);\n",
              "    }\n",
              "    90% {\n",
              "      border-color: transparent;\n",
              "      border-bottom-color: var(--fill-color);\n",
              "    }\n",
              "  }\n",
              "</style>\n",
              "\n",
              "  <script>\n",
              "    async function quickchart(key) {\n",
              "      const quickchartButtonEl =\n",
              "        document.querySelector('#' + key + ' button');\n",
              "      quickchartButtonEl.disabled = true;  // To prevent multiple clicks.\n",
              "      quickchartButtonEl.classList.add('colab-df-spinner');\n",
              "      try {\n",
              "        const charts = await google.colab.kernel.invokeFunction(\n",
              "            'suggestCharts', [key], {});\n",
              "      } catch (error) {\n",
              "        console.error('Error during call to suggestCharts:', error);\n",
              "      }\n",
              "      quickchartButtonEl.classList.remove('colab-df-spinner');\n",
              "      quickchartButtonEl.classList.add('colab-df-quickchart-complete');\n",
              "    }\n",
              "    (() => {\n",
              "      let quickchartButtonEl =\n",
              "        document.querySelector('#df-61387a29-abdf-4b51-9480-659dfcb50cfe button');\n",
              "      quickchartButtonEl.style.display =\n",
              "        google.colab.kernel.accessAllowed ? 'block' : 'none';\n",
              "    })();\n",
              "  </script>\n",
              "</div>\n",
              "    </div>\n",
              "  </div>\n"
            ],
            "application/vnd.google.colaboratory.intrinsic+json": {
              "type": "dataframe",
              "variable_name": "data",
              "repr_error": "'str' object has no attribute 'empty'"
            }
          },
          "metadata": {},
          "execution_count": 4
        }
      ]
    },
    {
      "cell_type": "markdown",
      "metadata": {
        "id": "W9_WPPF2rFRX"
      },
      "source": [
        "**DataFrame oszlopai**"
      ]
    },
    {
      "cell_type": "code",
      "metadata": {
        "id": "--QsVM6Uqm9m",
        "outputId": "3f3b413d-9efa-41ae-e355-99b5bde92d97",
        "colab": {
          "base_uri": "https://localhost:8080/"
        }
      },
      "source": [
        "data['starttemp']  # egy oszlopra jol olvashatoan hivatkozhatunk az oszlop nevevel"
      ],
      "execution_count": 5,
      "outputs": [
        {
          "output_type": "execute_result",
          "data": {
            "text/plain": [
              "0      17.0\n",
              "1      19.0\n",
              "2      30.0\n",
              "3      29.0\n",
              "4      30.0\n",
              "       ... \n",
              "98     21.0\n",
              "99     16.0\n",
              "100    17.0\n",
              "101    15.0\n",
              "102    21.0\n",
              "Name: starttemp, Length: 103, dtype: float64"
            ]
          },
          "metadata": {},
          "execution_count": 5
        }
      ]
    },
    {
      "cell_type": "code",
      "metadata": {
        "id": "KRAIybRBre9E"
      },
      "source": [
        "list(data) # oszlopnevek listaja"
      ],
      "execution_count": null,
      "outputs": []
    },
    {
      "cell_type": "markdown",
      "metadata": {
        "id": "LHBXeoyQsmWS"
      },
      "source": [
        "**Hiányzó értékek (missing values)**"
      ]
    },
    {
      "cell_type": "code",
      "metadata": {
        "id": "AQ26osxUsiPZ",
        "outputId": "16fb6fce-ae07-474a-94af-0103fabf81d5",
        "colab": {
          "base_uri": "https://localhost:8080/"
        }
      },
      "source": [
        "data['starttemp'].isnull()\n",
        "# egy DataFrame típusú True-False vektort ad.\n",
        "# Az ertek attol fuggoen True vagy False, hogy\n",
        "# az adott peldany eeseteben a cella erteke null-e\n",
        "# (azaz hianyzo ertek-e)"
      ],
      "execution_count": 6,
      "outputs": [
        {
          "output_type": "execute_result",
          "data": {
            "text/plain": [
              "0      False\n",
              "1      False\n",
              "2      False\n",
              "3      False\n",
              "4      False\n",
              "       ...  \n",
              "98     False\n",
              "99     False\n",
              "100    False\n",
              "101    False\n",
              "102    False\n",
              "Name: starttemp, Length: 103, dtype: bool"
            ]
          },
          "metadata": {},
          "execution_count": 6
        }
      ]
    },
    {
      "cell_type": "code",
      "metadata": {
        "id": "HiL9duvwsuZY",
        "outputId": "07e47498-c8f6-400c-9bd7-57b2d15f0a2e",
        "colab": {
          "base_uri": "https://localhost:8080/"
        }
      },
      "source": [
        "data['starttemp'].isnull().sum()\n",
        "# összeadasnal: True=1, False=1\n",
        "# Igy tehat a hianyzo ertekek szamat kapjuk"
      ],
      "execution_count": 10,
      "outputs": [
        {
          "output_type": "execute_result",
          "data": {
            "text/plain": [
              "5"
            ]
          },
          "metadata": {},
          "execution_count": 10
        }
      ]
    },
    {
      "cell_type": "markdown",
      "metadata": {
        "id": "XD3UFEfMt4WU"
      },
      "source": [
        "*1. feladat*\n",
        "\n",
        "Írjon egy for ciklust, amely kiszámolja és kiírja a hiányzó értékek számát minden egyes attribútumra (oszlopra). A hiányzó értékek számával együtt az oszlop nevét is írja ki."
      ]
    },
    {
      "cell_type": "code",
      "metadata": {
        "id": "TLdUgthZtzAT",
        "outputId": "c0cac496-8c59-4c4a-ac3b-ab9d50d8badd",
        "colab": {
          "base_uri": "https://localhost:8080/"
        }
      },
      "source": [
        "# ...IDE JÖN A KÓD...\n",
        "for x in data:\n",
        "  print(f\"oszlop neve: {x:15}, hianyzo ertek szama: {data[x].isnull().sum()}\")"
      ],
      "execution_count": 19,
      "outputs": [
        {
          "output_type": "stream",
          "name": "stdout",
          "text": [
            "oszlop neve: date           , hianyzo ertek szama: 0\n",
            "oszlop neve: starttime      , hianyzo ertek szama: 0\n",
            "oszlop neve: endtime        , hianyzo ertek szama: 0\n",
            "oszlop neve: starttemp      , hianyzo ertek szama: 5\n",
            "oszlop neve: endtemp        , hianyzo ertek szama: 4\n",
            "oszlop neve: air conditioner, hianyzo ertek szama: 0\n",
            "oszlop neve: trafic         , hianyzo ertek szama: 0\n",
            "oszlop neve: route          , hianyzo ertek szama: 0\n",
            "oszlop neve: dist           , hianyzo ertek szama: 1\n",
            "oszlop neve: avg.cons.      , hianyzo ertek szama: 0\n",
            "oszlop neve: speed          , hianyzo ertek szama: 0\n",
            "oszlop neve: duration       , hianyzo ertek szama: 0\n",
            "oszlop neve: fuel type      , hianyzo ertek szama: 0\n",
            "oszlop neve: road           , hianyzo ertek szama: 0\n",
            "oszlop neve: num. persons   , hianyzo ertek szama: 0\n"
          ]
        }
      ]
    },
    {
      "cell_type": "markdown",
      "metadata": {
        "id": "QxOZPlMAwdbR"
      },
      "source": [
        "*2. feladat*\n",
        "\n",
        "Készítsen másolatot az adatról, és a másolatban helyettesítse a *starttemp* oszlop hiányzó értékeit\n",
        "\n",
        "(a) a starttemp átlagos értékével,\n",
        "\n",
        "(b) a starttemp mediánjával.\n",
        "\n",
        "(c) Írjon egy for ciklust, amely az összes oszlop esetén helyettesíti a hiányzó értékeket az adott oszlop átlagával, ahol ez lehetséges!"
      ]
    },
    {
      "cell_type": "code",
      "metadata": {
        "id": "6aGU_70_ybYn",
        "outputId": "000cf8d7-c350-4b7e-f95b-68bb0e6b265c",
        "colab": {
          "base_uri": "https://localhost:8080/"
        }
      },
      "source": [
        "# ...IDE JÖN A KÓD...\n",
        "data_copy = data.copy()\n",
        "avg = data['starttemp'].mean()\n",
        "starttemp_missing = data['starttemp'].isnull()\n",
        "data_copy['starttemp'][starttemp_missing] = avg;\n",
        "print(data_copy['starttemp']);\n",
        "\n",
        "print(f\"oszlop neve: {x:15}, hianyzo ertek szama: {data_copy['starttemp'].isnull().sum()}\")\n"
      ],
      "execution_count": 42,
      "outputs": [
        {
          "output_type": "stream",
          "name": "stdout",
          "text": [
            "0      17.0\n",
            "1      19.0\n",
            "2      30.0\n",
            "3      29.0\n",
            "4      30.0\n",
            "       ... \n",
            "98     21.0\n",
            "99     16.0\n",
            "100    17.0\n",
            "101    15.0\n",
            "102    21.0\n",
            "Name: starttemp, Length: 103, dtype: float64\n",
            "oszlop neve: num. persons   , hianyzo ertek szama: 0\n"
          ]
        }
      ]
    },
    {
      "cell_type": "code",
      "source": [],
      "metadata": {
        "id": "-1nOhTEdorja"
      },
      "execution_count": null,
      "outputs": []
    },
    {
      "cell_type": "code",
      "metadata": {
        "id": "gvAu05EMymqO",
        "outputId": "e62063f3-c428-4733-b9e7-fc5f2e40e83d",
        "colab": {
          "base_uri": "https://localhost:8080/"
        }
      },
      "source": [
        "# ...IDE JÖN A KÓD...\n",
        "# ...IDE JÖN A KÓD...\n",
        "data_copy = data.copy()\n",
        "med = data['starttemp'].median()\n",
        "starttemp_missing = data['starttemp'].isnull()\n",
        "data_copy['starttemp'][starttemp_missing] = med;\n",
        "print(data_copy['starttemp']);\n",
        "\n",
        "print(f\"oszlop neve: {x:15}, hianyzo ertek szama: {data_copy['starttemp'].isnull().sum()}\")\n"
      ],
      "execution_count": 44,
      "outputs": [
        {
          "output_type": "stream",
          "name": "stdout",
          "text": [
            "0      17.0\n",
            "1      19.0\n",
            "2      30.0\n",
            "3      29.0\n",
            "4      30.0\n",
            "       ... \n",
            "98     21.0\n",
            "99     16.0\n",
            "100    17.0\n",
            "101    15.0\n",
            "102    21.0\n",
            "Name: starttemp, Length: 103, dtype: float64\n",
            "oszlop neve: num. persons   , hianyzo ertek szama: 0\n"
          ]
        }
      ]
    },
    {
      "cell_type": "code",
      "metadata": {
        "id": "N2nrJAH9zKPo",
        "outputId": "4ee3b9d1-5e7b-450d-843a-5a6ef3e791d7",
        "colab": {
          "base_uri": "https://localhost:8080/"
        }
      },
      "source": [
        "# ...IDE JÖN A KÓD...\n",
        "data_copy = data.copy()\n",
        "for x in data_copy:\n",
        "  if(data_copy[x].isnull().sum() > 0):\n",
        "    avg = data[x].median()\n",
        "    starttemp_missing = data[x].isnull()\n",
        "    data_copy[x][starttemp_missing] = med;\n",
        "\n",
        "for x in data_copy:\n",
        "  print(f\"oszlop neve: {x:15}, hianyzo ertek szama: {data_copy[x].isnull().sum()}\")\n"
      ],
      "execution_count": 62,
      "outputs": [
        {
          "output_type": "stream",
          "name": "stdout",
          "text": [
            "oszlop neve: date           , hianyzo ertek szama: 0\n",
            "oszlop neve: starttime      , hianyzo ertek szama: 0\n",
            "oszlop neve: endtime        , hianyzo ertek szama: 0\n",
            "oszlop neve: starttemp      , hianyzo ertek szama: 5\n",
            "oszlop neve: endtemp        , hianyzo ertek szama: 4\n",
            "oszlop neve: air conditioner, hianyzo ertek szama: 0\n",
            "oszlop neve: trafic         , hianyzo ertek szama: 0\n",
            "oszlop neve: route          , hianyzo ertek szama: 0\n",
            "oszlop neve: dist           , hianyzo ertek szama: 1\n",
            "oszlop neve: avg.cons.      , hianyzo ertek szama: 0\n",
            "oszlop neve: speed          , hianyzo ertek szama: 0\n",
            "oszlop neve: duration       , hianyzo ertek szama: 0\n",
            "oszlop neve: fuel type      , hianyzo ertek szama: 0\n",
            "oszlop neve: road           , hianyzo ertek szama: 0\n",
            "oszlop neve: num. persons   , hianyzo ertek szama: 0\n"
          ]
        }
      ]
    },
    {
      "cell_type": "markdown",
      "metadata": {
        "id": "oxPTYwfMLDeb"
      },
      "source": [
        "A következőkben egy diagramon fogjuk ábrázolni az egyes utazások esetében az induláskori és érkezéskori hőmérsékletet. Csak azokat az utazásokat fogjuk használni, ahol az eredeti adatban mind a két hőmérsékleti érték adott. Először a scatterplottal ismerkedünk."
      ]
    },
    {
      "cell_type": "code",
      "metadata": {
        "id": "ZIBg9rC8K4RD",
        "outputId": "0f5f5886-b512-42c6-9e78-61f8a184f8a9",
        "colab": {
          "base_uri": "https://localhost:8080/",
          "height": 430
        }
      },
      "source": [
        "# 1 2\n",
        "# 4 3\n",
        "# 10 8\n",
        "# 15 9\n",
        "x = [1, 4, 10, 15]\n",
        "y = [2, 3, 8, 9]\n",
        "plt.scatter(x,y);"
      ],
      "execution_count": 55,
      "outputs": [
        {
          "output_type": "display_data",
          "data": {
            "text/plain": [
              "<Figure size 640x480 with 1 Axes>"
            ],
            "image/png": "[encoded data removed]"
          },
          "metadata": {}
        }
      ]
    },
    {
      "cell_type": "code",
      "metadata": {
        "id": "jNqT0w42J24_",
        "outputId": "73463842-2598-405c-f6ee-aa348e4f683c",
        "colab": {
          "base_uri": "https://localhost:8080/",
          "height": 430
        }
      },
      "source": [
        "both_values_present = np.logical_and(data['starttemp'].isnull()==False,\n",
        "                                     data['endtemp'].isnull()==False)\n",
        "both_values_valid = np.logical_and(both_values_present, data['endtemp'] < 100)\n",
        "plt.scatter( data[both_values_valid]['starttemp'],\n",
        "            data[both_values_valid]['endtemp'] )\n",
        "plt.show()"
      ],
      "execution_count": 59,
      "outputs": [
        {
          "output_type": "display_data",
          "data": {
            "text/plain": [
              "<Figure size 640x480 with 1 Axes>"
            ],
            "image/png": "[encoded data removed]"
          },
          "metadata": {}
        }
      ]
    },
    {
      "cell_type": "markdown",
      "metadata": {
        "id": "SiSOcqdBNI20"
      },
      "source": [
        "*3. feladat*\n",
        "\n",
        "Az érkezéskori hőmérséklet jobb becslés lehet az indulási hőmérsékletre, mint az összes induláskori hőmérséklet átlaga, és fordítva: amikor az érkezéskori hőmérséklet hiányzik, az induláskori hőmérséklet lehet egy jó becslés.\n",
        "\n",
        "(a) Írjon egy olyan kódot, amely ellenőrzi, hogy van-e olyan eset, amikor egyszerre hiányzik az induláskori és érkezéskori hőmérséklet!\n",
        "\n",
        "(b) Amikor az **indulási** hőmérséklet hiányzik, helyettesítse azt az érkezéskori hőmérséklettel!\n",
        "\n",
        "(c) Amikor csak az **érkezéskori** hőmérséklet hiányzik, helyettesítse azt az induláskori hőmérséklettel!\n"
      ]
    },
    {
      "cell_type": "markdown",
      "metadata": {
        "id": "6zX590J5O8dR"
      },
      "source": []
    },
    {
      "cell_type": "code",
      "metadata": {
        "id": "lBWWVmBJLYKH"
      },
      "source": [
        "# ...IDE JÖN A KÓD..\n",
        "both_values_missing = np.logical_and(data['starttemp'].isnull(), data['endtemp'].isnull())"
      ],
      "execution_count": 63,
      "outputs": []
    },
    {
      "cell_type": "code",
      "metadata": {
        "id": "zi7W2JF0Ngxy",
        "outputId": "abd464dd-76d5-4a1a-ddcb-2d76750a0c49",
        "colab": {
          "base_uri": "https://localhost:8080/"
        }
      },
      "source": [
        "# ...IDE JÖN A KÓD...\n",
        "cpy = data.copy()\n",
        "values_to_be_replaced = data['starttemp'].isnull()\n",
        "cpy['starttemp'][values_to_be_replaced] = cpy['endtemp'][values_to_be_replaced]\n",
        "\n",
        "print(cpy['starttemp'].isnull().sum())\n",
        "\n"
      ],
      "execution_count": 71,
      "outputs": [
        {
          "output_type": "stream",
          "name": "stdout",
          "text": [
            "0\n"
          ]
        }
      ]
    },
    {
      "cell_type": "markdown",
      "metadata": {
        "id": "nddHXHwIQa_Y"
      },
      "source": [
        "*4. feladat*\n",
        "\n",
        "Lehetséges, hogy az indulási és érkezéskori hőmérséklet különbsége összefügg azzal, hogy mikor kerül sor az utazásra (reggel nagyobb az érkezéskori hőmérséklet, este pedig kisebb). A következőkben ezt fogjuk megvizsgálni.\n",
        "\n",
        "(a) Vezessen be egy új oszlopot, ami a két hőmérséklet különbségét tartalmazza."
      ]
    },
    {
      "cell_type": "code",
      "metadata": {
        "id": "llsxAi1hOkUs"
      },
      "source": [
        "# ...IDE JÖN A KÓD...\n",
        "data['temp_diff'] = data['endtemp'] - data['starttemp']"
      ],
      "execution_count": 72,
      "outputs": []
    },
    {
      "cell_type": "markdown",
      "metadata": {
        "id": "6oWXKEPCRGnV"
      },
      "source": [
        "(b) Vezessen be egy új oszlopot, ami azt tartalmazza számként, hogy a nap melyik órájában kerül sor az utazásra! Ezt az információt a *starttime* oszlopban található string első két karakteréből \"hámozza ki\"."
      ]
    },
    {
      "cell_type": "code",
      "metadata": {
        "id": "0KZVeuF1RFW4"
      },
      "source": [
        "# ...IDE JÖN A KÓD...\n",
        "data['hour'] = 0\n",
        "for i in range(len(data)):\n",
        "  data['hour'][i] = int(data['starttime'][i][0:2])"
      ],
      "execution_count": 81,
      "outputs": []
    },
    {
      "cell_type": "markdown",
      "metadata": {
        "id": "vN-Dw_W8Rkuk"
      },
      "source": [
        "A következőkben csoportosítjuk az egyes utazásokat aszerint, hogy a nap melyik órájában kerül sor az utazásra, majd csoportonként kiszámoljuk az előbbiekben bevezetett *temp_diff* mediánját, amelyet az óra függvényében ábrázolunk."
      ]
    },
    {
      "cell_type": "code",
      "metadata": {
        "id": "Xf_S_f_gRjvl",
        "outputId": "2f18ef9b-f6b2-4dcc-dc86-3f726718cb76",
        "colab": {
          "base_uri": "https://localhost:8080/",
          "height": 466
        }
      },
      "source": [
        "# ...IDE JÖN A KÓD...\n",
        "data.groupby('hour')['temp_diff'].median().plot()"
      ],
      "execution_count": 84,
      "outputs": [
        {
          "output_type": "execute_result",
          "data": {
            "text/plain": [
              "<Axes: xlabel='hour'>"
            ]
          },
          "metadata": {},
          "execution_count": 84
        },
        {
          "output_type": "display_data",
          "data": {
            "text/plain": [
              "<Figure size 640x480 with 1 Axes>"
            ],
            "image/png": "[encoded data removed]"
          },
          "metadata": {}
        }
      ]
    },
    {
      "cell_type": "markdown",
      "metadata": {
        "id": "7tjT4knTSuCD"
      },
      "source": [
        "*5. feladat*\n",
        "\n",
        "(a) Helyettesítse a **starttemp** hiányzó értékeit az **endtemp** hozzátartozó értékével úgy, hogy közben korrigál a két hőmérséklet közötti \"szokásos\" különbséggel (az előbb kiszámolt mediánnal)!"
      ]
    },
    {
      "cell_type": "code",
      "metadata": {
        "id": "5bMkr9csRc7t"
      },
      "source": [
        "# ...IDE JÖN A KÓD..."
      ],
      "execution_count": null,
      "outputs": []
    },
    {
      "cell_type": "markdown",
      "metadata": {
        "id": "9bTdPx_oTblV"
      },
      "source": [
        "(b) Helyettesítse az **endtemp** hiányzó értékeit a **starttemp** hozzátartozó értékével úgy, hogy közben korrigál a két hőmérséklet közötti \"szokásos\" különbséggel (az előbb kiszámolt mediánnal)! Miben különbözik a megoldás az előbbi részfeladat megoldásától?"
      ]
    },
    {
      "cell_type": "code",
      "metadata": {
        "id": "I21DuW54TZ5L"
      },
      "source": [
        "# ...IDE JÖN A KÓD..."
      ],
      "execution_count": null,
      "outputs": []
    },
    {
      "cell_type": "markdown",
      "metadata": {
        "id": "6G9clgWqUPfW"
      },
      "source": [
        "*6. feladat*\n",
        "\n",
        "Diszkusszió: hogyan töltené ki a távolság hiányzó értékét?"
      ]
    },
    {
      "cell_type": "code",
      "metadata": {
        "id": "1UGZWYPIVB0T"
      },
      "source": [
        "# ...IDE JÖN A KÓD..."
      ],
      "execution_count": null,
      "outputs": []
    },
    {
      "cell_type": "markdown",
      "metadata": {
        "id": "4K0mjCJ2sr3o"
      },
      "source": [
        "**Duplikátumok keresése**"
      ]
    },
    {
      "cell_type": "markdown",
      "metadata": {
        "id": "5BL_e7rFsykH"
      },
      "source": [
        "*7. feladat*\n",
        "\n",
        "Az úgynevezett **egzakt duplikátumok** (amikor pontosan ugyanaz a példány/rekord ismétlődik) eliminálása tipikusan két lépésben történik: az első lépésben az adatokat rendezzük, ezáltal a duplikátumok egymást követően helyezkednek el az adattáblában. A második lépésben az egymást követő példányokról döntjük el, hogy azonosak-e.\n",
        "Az esetünkben az adattábla eredetileg is rendezett.\n",
        "\n",
        "(a) Írjon egy olyan függvényt, amely az adattábla *i*-dik példányáról (*i* a függvény argumentuma) eldönti, hogy azonos-e az *(i+1)*-dik példánnyal."
      ]
    },
    {
      "cell_type": "code",
      "metadata": {
        "id": "fyaMDGCEUfLF",
        "outputId": "1caaf322-b9d7-4408-c79d-fd5eb43ca9ad",
        "colab": {
          "base_uri": "https://localhost:8080/"
        }
      },
      "source": [
        "# ...IDE JÖN A KÓD...\n",
        "\n",
        "def compare(i, data):\n",
        "  for x in data:\n",
        "    if data[x][i] != data[x][i+1]:\n",
        "      return False\n",
        "  return True\n",
        "\n",
        "\n",
        "\n",
        "\n",
        "\n",
        "\n"
      ],
      "execution_count": 113,
      "outputs": [
        {
          "output_type": "stream",
          "name": "stdout",
          "text": [
            "103\n",
            "False\n"
          ]
        }
      ]
    },
    {
      "cell_type": "markdown",
      "metadata": {
        "id": "E7uAKzhUuMOz"
      },
      "source": [
        "(b) Az előbbi függvény felhasználásával írjon egy olyan szkriptet, amely az adattábla minden egyes példányáról eldönti, hogy megtartantó-e, azaz különbözik-e a következő példánytól. Eredményként egy True/False értékekből álló listát várunk, amelyben True azt jelöli, hogy a példányt megtartjuk, False pedig azt, hogy eldobjuk, mert egy másik példány azonos vele."
      ]
    },
    {
      "cell_type": "code",
      "metadata": {
        "id": "SWJYjEkWuKYG",
        "outputId": "487e551f-d028-4f8c-9c6c-2eb741b91a5c",
        "colab": {
          "base_uri": "https://localhost:8080/"
        }
      },
      "source": [
        "# ...IDE JÖN A KÓD...\n",
        "keep = []\n",
        "for i in range(len(data) - 1):\n",
        "  keep.append(not compare(i, data))\n",
        "keep.append(True)\n",
        "print(keep)\n"
      ],
      "execution_count": 116,
      "outputs": [
        {
          "output_type": "stream",
          "name": "stdout",
          "text": [
            "[True, True, True, True, True, False, False, True, True, True, True, True, True, True, True, True, True, True, True, False, True, True, True, True, True, True, True, True, True, True, True, True, True, True, True, True, True, True, True, True, True, True, True, True, True, True, True, True, True, True, True, True, True, True, True, True, True, True, True, True, True, True, True, True, True, True, True, True, True, True, True, True, True, True, True, True, True, True, True, True, True, True, True, True, True, True, True, True, True, True, True, True, True, True, True, True, True, True, True, True, True, True, True]\n"
          ]
        }
      ]
    },
    {
      "cell_type": "markdown",
      "metadata": {
        "id": "XoDr69gSvqZt"
      },
      "source": [
        "A deduplikált adattábla:"
      ]
    },
    {
      "cell_type": "code",
      "metadata": {
        "id": "F-IyCYdnvDRE"
      },
      "source": [
        "data_dedup = pd.DataFrame(data[keep])\n",
        "data_dedup"
      ],
      "execution_count": null,
      "outputs": []
    },
    {
      "cell_type": "markdown",
      "metadata": {
        "id": "6sJEVz93xPjP"
      },
      "source": [
        "**Inkonzisztens értékek**"
      ]
    },
    {
      "cell_type": "markdown",
      "metadata": {
        "id": "7KbX5nIbxF48"
      },
      "source": [
        "*8. feladat*\n",
        "\n",
        "(a) Vizsgálja meg, hogy az adattábla *air conditioner* oszlopa milyen értékeket vesz fel, melyiket hányszor. Segítség: használjon *groupby*-t és *count*-ot!"
      ]
    },
    {
      "cell_type": "code",
      "metadata": {
        "id": "u40Y5ynywqLN",
        "outputId": "4600a081-056b-44b3-b64e-74c26cd50978",
        "colab": {
          "base_uri": "https://localhost:8080/"
        }
      },
      "source": [
        "# ...IDE JÖN A KÓD...\n",
        "\n",
        "value_counts = data['air conditioner'].value_counts()\n",
        "print(value_counts)\n",
        "counts_by_value = data.groupby('air conditioner').size()\n",
        "print(counts_by_value)\n",
        "\n",
        "\n",
        "\n"
      ],
      "execution_count": 151,
      "outputs": [
        {
          "output_type": "stream",
          "name": "stdout",
          "text": [
            "off     55\n",
            "on      45\n",
            "oof      1\n",
            "offf     1\n",
            "onn      1\n",
            "Name: air conditioner, dtype: int64\n",
            "air conditioner\n",
            "off     55\n",
            "offf     1\n",
            "on      45\n",
            "onn      1\n",
            "oof      1\n",
            "dtype: int64\n"
          ]
        }
      ]
    },
    {
      "cell_type": "markdown",
      "metadata": {
        "id": "-hGgGgRrx7a1"
      },
      "source": [
        "(b) Helyettesítse az \"offf\" értékeket \"off\"-fal!"
      ]
    },
    {
      "cell_type": "code",
      "metadata": {
        "id": "-STdUNFdxuzO",
        "outputId": "fbad6238-aade-4003-9405-e30e243b0988",
        "colab": {
          "base_uri": "https://localhost:8080/"
        }
      },
      "source": [
        "# ...IDE JÖN A KÓD...\n",
        "data['air conditioner'] = data['air conditioner'].replace('offf', 'off')\n",
        "\n",
        "print(data[data['air conditioner'] == 'offf'])\n"
      ],
      "execution_count": 159,
      "outputs": [
        {
          "output_type": "stream",
          "name": "stdout",
          "text": [
            "Empty DataFrame\n",
            "Columns: [date, starttime, endtime, starttemp, endtemp, air conditioner, trafic, route, dist, avg.cons., speed, duration, fuel type, road, num. persons, temp_diff, hour]\n",
            "Index: []\n"
          ]
        }
      ]
    },
    {
      "cell_type": "markdown",
      "metadata": {
        "id": "0yeXxkd4yWGJ"
      },
      "source": [
        "(c) Helyettesítse az \"onn\" értékeket \"on\"-nal!"
      ]
    },
    {
      "cell_type": "code",
      "metadata": {
        "id": "n50c711cyvhN",
        "outputId": "a671f7ac-9e18-4cf1-ef68-7c6ca8b05baf",
        "colab": {
          "base_uri": "https://localhost:8080/"
        }
      },
      "source": [
        "# ...IDE JÖN A KÓD...    # ...IDE JÖN A KÓD...\n",
        "data['air conditioner'] = data['air conditioner'].replace('onn', 'on')\n",
        "\n",
        "print(data[data['air conditioner'] == 'onn'])\n"
      ],
      "execution_count": 160,
      "outputs": [
        {
          "output_type": "stream",
          "name": "stdout",
          "text": [
            "Empty DataFrame\n",
            "Columns: [date, starttime, endtime, starttemp, endtemp, air conditioner, trafic, route, dist, avg.cons., speed, duration, fuel type, road, num. persons, temp_diff, hour]\n",
            "Index: []\n"
          ]
        }
      ]
    },
    {
      "cell_type": "markdown",
      "metadata": {
        "id": "-WhtJN-uycKM"
      },
      "source": [
        "(d) Helyettesítse az \"oof\" értékeket \"off\"-fal!"
      ]
    },
    {
      "cell_type": "code",
      "metadata": {
        "id": "e-T332NUyi8A",
        "outputId": "c9de13e0-042f-4d57-bbd6-153790942f25",
        "colab": {
          "base_uri": "https://localhost:8080/"
        }
      },
      "source": [
        "# ...IDE JÖN A KÓD...\n",
        "# ...IDE JÖN A KÓD...    # ...IDE JÖN A KÓD...\n",
        "data['air conditioner'] = data['air conditioner'].replace('oof', 'off')\n",
        "\n",
        "print(data[data['air conditioner'] == 'oof'])\n"
      ],
      "execution_count": 161,
      "outputs": [
        {
          "output_type": "stream",
          "name": "stdout",
          "text": [
            "Empty DataFrame\n",
            "Columns: [date, starttime, endtime, starttemp, endtemp, air conditioner, trafic, route, dist, avg.cons., speed, duration, fuel type, road, num. persons, temp_diff, hour]\n",
            "Index: []\n"
          ]
        }
      ]
    },
    {
      "cell_type": "markdown",
      "metadata": {
        "id": "ZQvcBg0Xy1d5"
      },
      "source": [
        "**Leíró statisztikák**"
      ]
    },
    {
      "cell_type": "markdown",
      "metadata": {
        "id": "uS-FekZw41qR"
      },
      "source": [
        "Betöltjük a helyes adatokat:"
      ]
    },
    {
      "cell_type": "code",
      "metadata": {
        "id": "QharNtsA40bZ"
      },
      "source": [
        "data = pd.read_csv('http://www.biointelligence.hu/mi/fuel_data.txt', header=0, sep='\\t')"
      ],
      "execution_count": 162,
      "outputs": []
    },
    {
      "cell_type": "markdown",
      "metadata": {
        "id": "tbcp1vQU55o1"
      },
      "source": [
        "*9. feladat*\n",
        "\n",
        "Számolja ki a kezdeti hőmérséklet\n",
        "\n",
        "(a) minimumát és maximumát,\n",
        "\n",
        "(b) 25%-os és 75%-os percentiliseit,\n",
        "\n",
        "(c) és szórását!\n",
        "\n",
        "(d) Írjon egy függvényt, amellyel bármelyik oszlop amplitúdója (maximumának és\n",
        "    minimumának különbsége) meghatározható!\n",
        "\n",
        "(e) Írjon egy függvényt, amely meghatározza az alsó és felső kvartilisek távolságát!\n",
        "\n",
        "(Segítség: használja a numpy függvényeit!)"
      ]
    },
    {
      "cell_type": "code",
      "metadata": {
        "id": "uqqPv6Y74_Df"
      },
      "source": [
        "# ...IDE JÖN A KÓD..."
      ],
      "execution_count": null,
      "outputs": []
    },
    {
      "cell_type": "code",
      "metadata": {
        "id": "VxR0t-CO5_GQ"
      },
      "source": [
        "# ...IDE JÖN A KÓD..."
      ],
      "execution_count": null,
      "outputs": []
    },
    {
      "cell_type": "code",
      "metadata": {
        "id": "tsmWYGea6CNS"
      },
      "source": [
        "# ...IDE JÖN A KÓD..."
      ],
      "execution_count": null,
      "outputs": []
    },
    {
      "cell_type": "code",
      "metadata": {
        "id": "4ecZc0AZ6Hox"
      },
      "source": [
        "# ...IDE JÖN A KÓD..."
      ],
      "execution_count": null,
      "outputs": []
    },
    {
      "cell_type": "code",
      "metadata": {
        "id": "Hf6cXOTl6Pym"
      },
      "source": [
        "# ...IDE JÖN A KÓD..."
      ],
      "execution_count": null,
      "outputs": []
    },
    {
      "cell_type": "code",
      "metadata": {
        "id": "5XNlOzkx6eOX"
      },
      "source": [
        "# ...IDE JÖN A KÓD..."
      ],
      "execution_count": null,
      "outputs": []
    },
    {
      "cell_type": "markdown",
      "metadata": {
        "id": "9WeBQGpA72TP"
      },
      "source": [
        "**Diagramok**"
      ]
    },
    {
      "cell_type": "code",
      "metadata": {
        "id": "5JNTjrey7JLh"
      },
      "source": [
        "data[\"starttemp\"].hist();"
      ],
      "execution_count": null,
      "outputs": []
    },
    {
      "cell_type": "markdown",
      "metadata": {
        "id": "gFfEZnAI8Pk9"
      },
      "source": [
        "*10. feladat*\n",
        "\n",
        "A \"pandas DataFrame\" dokumentációját és/vagy interneten elérhető forrásokat felhasználva módosítsa az előbbi kódot úgy, hogy a hisztogram oszlopainak száma ne 10, hanem 20 legyen!"
      ]
    },
    {
      "cell_type": "code",
      "metadata": {
        "id": "tdPlaZai76nC"
      },
      "source": [
        "# ...IDE JÖN A KÓD..."
      ],
      "execution_count": null,
      "outputs": []
    },
    {
      "cell_type": "markdown",
      "metadata": {
        "id": "oXGdV-iv89gm"
      },
      "source": [
        "*11. feladat*\n",
        "\n",
        "Határozza meg, hány esetben volt a légkondi\n",
        "\n",
        "(a) bekapcsolva (ac_on), illetve\n",
        "\n",
        "(b) kikapcsolva (ac_off)."
      ]
    },
    {
      "cell_type": "code",
      "metadata": {
        "id": "UqIq7rpL8pYj"
      },
      "source": [
        "# ...IDE JÖN A KÓD..."
      ],
      "execution_count": null,
      "outputs": []
    },
    {
      "cell_type": "code",
      "metadata": {
        "id": "HvYqfZ7Z9Lvf"
      },
      "source": [
        "# ...IDE JÖN A KÓD..."
      ],
      "execution_count": null,
      "outputs": []
    },
    {
      "cell_type": "markdown",
      "metadata": {
        "id": "O8I4rDCG9d-f"
      },
      "source": [
        "A következőkben a légkondi ki- és bekapcsoltságát fogjuk különböző diagramokon ábrázolni."
      ]
    },
    {
      "cell_type": "code",
      "metadata": {
        "id": "4IQM7AzS9buO"
      },
      "source": [
        "plt.bar([2,1], [ac_on, ac_off], tick_label=[\"bekapcs\",\"kikapcs\"], color=[\"b\",\"g\"]);\n",
        "\n",
        "# plt.show() # most nem kell, de máskor jól jöhet :-)"
      ],
      "execution_count": null,
      "outputs": []
    },
    {
      "cell_type": "code",
      "metadata": {
        "id": "zKDM8EKu-Aap"
      },
      "source": [
        "plt.pie( [ac_on, ac_off], labels=[\"on\", \"off\"]);"
      ],
      "execution_count": null,
      "outputs": []
    },
    {
      "cell_type": "markdown",
      "metadata": {
        "id": "CG-eNBDqRitB"
      },
      "source": [
        "Kezdőhőmérséklet eloszlása boxplot-on:\n",
        "\n",
        "- középső vonal: median\n",
        "- doboz teteje: felso kvartilis (75%-os percentilis)\n",
        "- doboz alja: also kvartilis (25%-os percentilis)\n",
        "- felső vonal: median + 1.5*(interquartile range), de legfeljebb a legnagyobb érték\n",
        "- alsó vonal: median - 1.5*(interquartile range), de nem kisebb a legkisebb értéknél\n",
        "- outlierek: karikák az alsó és felső vonal alatt ill. felett\n",
        "- alsó és felső vonalnál az 1.5-ös szorzó állítható, ld. https://matplotlib.org/stable/api/_as_gen/matplotlib.pyplot.boxplot.html\n",
        "\n"
      ]
    },
    {
      "cell_type": "code",
      "metadata": {
        "id": "c8RwaluV-aeD"
      },
      "source": [
        "plt.boxplot(data['starttemp'], notch=True);"
      ],
      "execution_count": null,
      "outputs": []
    },
    {
      "cell_type": "code",
      "metadata": {
        "id": "Nk3aNFQ2QdNe"
      },
      "source": [
        "plt.boxplot([ data[data['fuel type'] =='95FS']['avg.cons.'],\n",
        "              data[data['fuel type'] =='95+']['avg.cons.'] ],\n",
        "              labels = ['95FS', '95+']);"
      ],
      "execution_count": null,
      "outputs": []
    },
    {
      "cell_type": "markdown",
      "metadata": {
        "id": "0rrhS4pKTT64"
      },
      "source": [
        "**Szélsőséges értékek kezelése**\n",
        "\n",
        "Egy egyszerű eljárás a szélsőséges értékek kezelésére: kihagyjuk őket. Felrajzoljuk példaként az előbbi boxplot-okat a 10l/100km-es fogyasztásnál nagyobb fogyasztásokat kihagyva."
      ]
    },
    {
      "cell_type": "code",
      "metadata": {
        "id": "nl0q6YeITCS1"
      },
      "source": [
        "plt.boxplot([ data[(data['fuel type'] =='95FS') & (data['avg.cons.']<10)]['avg.cons.'],\n",
        "              data[(data['fuel type'] =='95+')  & (data['avg.cons.']<10)]['avg.cons.'] ],\n",
        "             labels = ['95FS', '95+']);"
      ],
      "execution_count": null,
      "outputs": []
    },
    {
      "cell_type": "markdown",
      "metadata": {
        "id": "lz_xw_JdT9Tu"
      },
      "source": [
        "**Korreláció**"
      ]
    },
    {
      "cell_type": "code",
      "metadata": {
        "id": "DfmASDGUTq8u"
      },
      "source": [
        "np.corrcoef(data['starttemp'], data['endtemp'])"
      ],
      "execution_count": null,
      "outputs": []
    },
    {
      "cell_type": "markdown",
      "metadata": {
        "id": "sfh9mL-nUD6K"
      },
      "source": [
        "*12. feladat*\n",
        "\n",
        "Írja meg azt a kódot, amely megadja kiszámolja a korrelációmátrixot a sebesség és az üzemanyagfogyasztás között!"
      ]
    },
    {
      "cell_type": "code",
      "metadata": {
        "id": "m3XLldNdT_ks"
      },
      "source": [
        "# ...IDE JÖN A KÓD..."
      ],
      "execution_count": null,
      "outputs": []
    },
    {
      "cell_type": "markdown",
      "metadata": {
        "id": "88lhN9bgUi_A"
      },
      "source": [
        "**Scatterplottól a többdimenziós ábrákig**"
      ]
    },
    {
      "cell_type": "code",
      "metadata": {
        "id": "D8cekN2VUSkk"
      },
      "source": [
        "plt.scatter(data['speed'], data['avg.cons.']);"
      ],
      "execution_count": null,
      "outputs": []
    },
    {
      "cell_type": "markdown",
      "metadata": {
        "id": "hHDXmwFTU4km"
      },
      "source": [
        "A következő ábrán színekkel jelöljük a forgalmi viszonyokat, de csak azokat az eseteket ábrázoljuk, ahol a fogyasztás 10l/100km alatti"
      ]
    },
    {
      "cell_type": "code",
      "metadata": {
        "id": "-OFtrhV4UqVo"
      },
      "source": [
        "relevant_data = data[data['avg.cons.']<10]\n",
        "\n",
        "colors = []\n",
        "for tr in relevant_data['trafic']:\n",
        "    if tr == 'low':\n",
        "        colors.append('g')\n",
        "    elif tr == 'normal':\n",
        "        colors.append('b')\n",
        "    else:\n",
        "        colors.append('r')\n",
        "\n",
        "plt.scatter(relevant_data['speed'],\n",
        "            relevant_data['avg.cons.'],\n",
        "            c = colors);"
      ],
      "execution_count": null,
      "outputs": []
    },
    {
      "cell_type": "markdown",
      "metadata": {
        "id": "ID0vd9DBVfgI"
      },
      "source": [
        "*13. feladat*\n",
        "\n",
        "Hozzon létre egy új attribútumot (oszlopot), amely az átlagos hőmérsékletet (indulási és érkezéskori hőmérsékletek átlagát) tartalmazza!"
      ]
    },
    {
      "cell_type": "code",
      "metadata": {
        "id": "47UVNbTMVLpQ"
      },
      "source": [
        "data['temp'] = # ...IDE JÖN A KÓD..."
      ],
      "execution_count": null,
      "outputs": []
    },
    {
      "cell_type": "markdown",
      "metadata": {
        "id": "f_VQCx2lV_Ui"
      },
      "source": [
        "A következőkben egy 3D ábrán egyszerre fogjuk ábrázolni a sebességet, fogyasztást és a hőmérsékletet."
      ]
    },
    {
      "cell_type": "code",
      "metadata": {
        "id": "w0Q5WEPjVxFS"
      },
      "source": [
        "from mpl_toolkits.mplot3d import Axes3D\n",
        "fig = plt.figure()\n",
        "ax = fig.add_subplot(111, projection='3d')\n",
        "ax.scatter(data['speed'], data['avg.cons.'], data['temp'])\n",
        "plt.show()"
      ],
      "execution_count": null,
      "outputs": []
    },
    {
      "cell_type": "markdown",
      "metadata": {
        "id": "70aSrTd9Wm-3"
      },
      "source": [
        "\n",
        "\n",
        "...szín segítségével megjelenítjük az üzemanyag típusát:\n",
        "\n"
      ]
    },
    {
      "cell_type": "code",
      "metadata": {
        "id": "cJShuwiTWHIj"
      },
      "source": [
        "from mpl_toolkits.mplot3d import Axes3D\n",
        "fig = plt.figure()\n",
        "ax = fig.add_subplot(111, projection='3d')\n",
        "colors = []\n",
        "for i in range(len(data)):\n",
        "    if data['fuel type'][i]=='95+':\n",
        "        colors.append('r')\n",
        "    else:\n",
        "        colors.append('b')\n",
        "ax.scatter(data['speed'], data['avg.cons.'], data['temp'], c = colors)\n",
        "ax.set_xlabel('speed')\n",
        "ax.set_ylabel('avg.cons')\n",
        "ax.set_zlabel('temp')\n",
        "plt.show()"
      ],
      "execution_count": null,
      "outputs": []
    },
    {
      "cell_type": "markdown",
      "metadata": {
        "id": "ed-o9v0xXFoL"
      },
      "source": [
        "...a jelölő (marker) típusával pedig a forgalmi viszonyokat:"
      ]
    },
    {
      "cell_type": "code",
      "metadata": {
        "id": "xI2dbUIvWoaF"
      },
      "source": [
        "from mpl_toolkits.mplot3d import Axes3D\n",
        "fig = plt.figure()\n",
        "ax = fig.add_subplot(111, projection='3d')\n",
        "colors = []\n",
        "m=[]\n",
        "for i in range(len(data)):\n",
        "    if data['fuel type'][i]=='95+':\n",
        "        colors.append('r')\n",
        "    else:\n",
        "        colors.append('b')\n",
        "\n",
        "for j in range(len(data)):\n",
        "    if data['trafic'][j] =='low':\n",
        "        ax.scatter(data['speed'][j], data['avg.cons.'][j], data['temp'][j],\n",
        "           c = colors[j], marker = 'o')\n",
        "    elif data['trafic'][j] =='normal':\n",
        "        ax.scatter(data['speed'][j], data['avg.cons.'][j], data['temp'][j],\n",
        "           c = colors[j], marker = 'x')\n",
        "    else:\n",
        "        ax.scatter(data['speed'][j], data['avg.cons.'][j], data['temp'][j],\n",
        "           c = colors[j], marker = '^')\n",
        "plt.show()"
      ],
      "execution_count": null,
      "outputs": []
    },
    {
      "cell_type": "markdown",
      "metadata": {
        "id": "i8oKoRxqZtoM"
      },
      "source": [
        "**Összefoglalás**\n",
        "\n",
        "Tipikus előfeldolgozási (adattiszttítási) lépések:\n",
        "- Hiányzó értékek kezelése\n",
        "- Duplikátumok eliminálása\n",
        "- Inkonzisztens (hibás) értékek javítása\n",
        "- Adatok kiválasztása: a későbbi elemzés szempontjából lényeges sorok=példányok=rekordok kiválasztása, valamint oszlopok=attribútumok=leírók=feature-k kiválasztása, új attribútumok létrehozása (pl. 'temp'), dimenzionalitás csökkentése (pl. PCA-val, nem volt róla szó).  \n",
        "- Normalizálás (nem volt róla szó)\n",
        "- Szélsőséges értékek keresése\n",
        "\n",
        "Az előfeldolgozás közben (vagy akár előtte ill. utána is) hasznos az adatainkat ábrázolni, különféle leíró statisztikákat számolni, hogy minél jobban megértsük az adatokat.\n",
        "\n",
        "Az előfeldolgozási lépések projektről-projektre változhatnak, mindig azt használjuk, ami az adott esetben ésszerű! Nem volt szó domain-specifikus előfeldolgozáról (pl. képek esetén azonos felbontásra alakításról)."
      ]
    },
    {
      "cell_type": "code",
      "metadata": {
        "id": "xLqYoZO-XDBq"
      },
      "source": [],
      "execution_count": null,
      "outputs": []
    }
  ]
}